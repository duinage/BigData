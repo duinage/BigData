{
 "cells": [
  {
   "cell_type": "code",
   "execution_count": 2,
   "id": "2882d209",
   "metadata": {},
   "outputs": [],
   "source": [
    "import librosa\n",
    "import numpy as np\n",
    "import os\n",
    "from collections import Counter"
   ]
  },
  {
   "cell_type": "code",
   "execution_count": 3,
   "id": "7e6e709b",
   "metadata": {},
   "outputs": [],
   "source": [
    "def extract_notes(audio_path):\n",
    "    y, sr = librosa.load(audio_path)\n",
    "    onset_env = librosa.onset.onset_strength(y=y, sr=sr)\n",
    "    peak_frames = librosa.util.peak_pick(onset_env, pre_max=3, post_max=3, pre_avg=5, post_avg=5, delta=0.1, wait=10)\n",
    "    peak_times = librosa.frames_to_time(peak_frames, sr=sr)\n",
    "\n",
    "    notes = []\n",
    "    for i, t in enumerate(peak_times):\n",
    "        if i % 3 == 0:\n",
    "            notes.append(\"A\")\n",
    "        elif i % 3 == 1:\n",
    "            notes.append(\"B\")\n",
    "        else:\n",
    "            notes.append(\"C\")\n",
    "    return notes\n",
    "\n",
    "bird_recordings_dir = r'bird_data'\n",
    "sequences = []\n",
    "\n",
    "for filename in os.listdir(bird_recordings_dir):\n",
    "    file_path = os.path.join(bird_recordings_dir, filename)\n",
    "    notes = extract_notes(file_path)\n",
    "    sequences.append(notes)"
   ]
  },
  {
   "cell_type": "code",
   "execution_count": 4,
   "id": "247474dd",
   "metadata": {},
   "outputs": [
    {
     "name": "stdout",
     "output_type": "stream",
     "text": [
      "\n",
      "Vocabulary: {'B', 'C', 'A'}\n",
      "\n",
      "Motifs: Counter({('A', 'B'): 328, ('B', 'C'): 323, ('C', 'A'): 320})\n"
     ]
    }
   ],
   "source": [
    "def analyze_sequences(sequences):\n",
    "    vocabulary = set()\n",
    "    for seq in sequences:\n",
    "        vocabulary.update(seq)\n",
    "\n",
    "    motifs = Counter()\n",
    "    for seq in sequences:\n",
    "        for i in range(len(seq) - 1):\n",
    "            motif = seq[i:i + 2]\n",
    "            motifs[tuple(motif)] += 1\n",
    "\n",
    "    return vocabulary, motifs\n",
    "\n",
    "vocabulary, motifs = analyze_sequences(sequences)\n",
    "print(\"\\nVocabulary:\", vocabulary)\n",
    "print(\"\\nMotifs:\", motifs)"
   ]
  }
 ],
 "metadata": {
  "kernelspec": {
   "display_name": "Python 3",
   "language": "python",
   "name": "python3"
  },
  "language_info": {
   "codemirror_mode": {
    "name": "ipython",
    "version": 3
   },
   "file_extension": ".py",
   "mimetype": "text/x-python",
   "name": "python",
   "nbconvert_exporter": "python",
   "pygments_lexer": "ipython3",
   "version": "3.12.4"
  }
 },
 "nbformat": 4,
 "nbformat_minor": 5
}
