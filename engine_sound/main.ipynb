{
 "cells": [
  {
   "cell_type": "markdown",
   "id": "5642021f",
   "metadata": {},
   "source": [
    "## Engine sound analysis\n",
    "### Author: Vadym Tunik"
   ]
  },
  {
   "cell_type": "code",
   "execution_count": 5,
   "id": "01744ff0",
   "metadata": {},
   "outputs": [],
   "source": [
    "import os\n",
    "import glob\n",
    "import librosa\n",
    "import numpy as np\n",
    "import matplotlib.pyplot as plt"
   ]
  },
  {
   "cell_type": "code",
   "execution_count": 6,
   "id": "80911cde",
   "metadata": {},
   "outputs": [],
   "source": [
    "FFTSIZE = 2**9\n",
    "DUAL_FFTSIZE = 2**10\n",
    "MAX_FREQ_BINS = 300\n",
    "\n",
    "HOP_LENGTH_RATIO = 4\n",
    "hop_length_1 = int(FFTSIZE / HOP_LENGTH_RATIO)\n",
    "hop_length_2 = int(DUAL_FFTSIZE / HOP_LENGTH_RATIO)\n",
    "\n",
    "INPUT_DATA_DIR = r\"C:\\Users\\duina\\repo\\DA\\engine_sound\\vehicle_engine_audio_data\"\n",
    "OUTPUT_SIGNATURE_DIR = r\"C:\\Users\\duina\\repo\\DA\\engine_sound\\signatures\"\n",
    "OUTPUT_PLOT_DIR = r\"C:\\Users\\duina\\repo\\DA\\engine_sound\\plots\"\n",
    "GENERATE_PLOTS = True"
   ]
  },
  {
   "cell_type": "code",
   "execution_count": 7,
   "id": "8e713922",
   "metadata": {},
   "outputs": [],
   "source": [
    "os.makedirs(OUTPUT_SIGNATURE_DIR, exist_ok=True)\n",
    "if GENERATE_PLOTS:\n",
    "    os.makedirs(OUTPUT_PLOT_DIR, exist_ok=True)\n",
    "\n",
    "audio_files = glob.glob(os.path.join(INPUT_DATA_DIR, '*.wav'))"
   ]
  },
  {
   "cell_type": "code",
   "execution_count": 8,
   "id": "567ae769",
   "metadata": {},
   "outputs": [],
   "source": [
    "for i, file_path in enumerate(audio_files):\n",
    "    base_filename = os.path.splitext(os.path.basename(file_path))[0]\n",
    "\n",
    "    y, sr = librosa.load(file_path, sr=None)\n",
    "    # first STFT\n",
    "    S = librosa.stft(y, n_fft=FFTSIZE, hop_length=hop_length_1)\n",
    "\n",
    "    if S.shape[0] < MAX_FREQ_BINS:\n",
    "        current_max_freq_bins = S.shape[0]\n",
    "    else:\n",
    "        current_max_freq_bins = MAX_FREQ_BINS\n",
    "    S = S[0:current_max_freq_bins, :]\n",
    "\n",
    "    # second STFT\n",
    "    all_Sx_magnitudes = []\n",
    "    max_ndiagrams = 0\n",
    "    nrows_modulation = int(DUAL_FFTSIZE / 2) + 1\n",
    "\n",
    "    for freq_bin_idx in range(S.shape[0]):\n",
    "        x = np.absolute(S[freq_bin_idx, :])\n",
    "\n",
    "        if len(x) < DUAL_FFTSIZE:\n",
    "            pad_width = DUAL_FFTSIZE - len(x)\n",
    "            x = np.pad(x, (0, pad_width), mode='constant')\n",
    "\n",
    "        Sx = librosa.stft(x, n_fft=DUAL_FFTSIZE, hop_length=hop_length_2)\n",
    "        Sx_mag = np.absolute(Sx)\n",
    "        all_Sx_magnitudes.append(Sx_mag)\n",
    "\n",
    "        if Sx_mag.shape[1] > max_ndiagrams:\n",
    "            max_ndiagrams = Sx_mag.shape[1]\n",
    "\n",
    "    ncols_original_freq = S.shape[0]\n",
    "    Signature_power = np.zeros((ncols_original_freq, nrows_modulation, max_ndiagrams))\n",
    "\n",
    "    for freq_bin_idx in range(ncols_original_freq):\n",
    "        Sx_mag = all_Sx_magnitudes[freq_bin_idx]\n",
    "        current_ndiagrams = Sx_mag.shape[1]\n",
    "        Signature_power[freq_bin_idx, :, :current_ndiagrams] = Sx_mag\n",
    "\n",
    "    output_signature_path = os.path.join(OUTPUT_SIGNATURE_DIR, f\"{base_filename}_signature.npy\")\n",
    "    np.save(output_signature_path, Signature_power)\n",
    "\n",
    "    if GENERATE_PLOTS:\n",
    "        for d in range(max_ndiagrams):\n",
    "            signature_slice = Signature_power[:, :, d]\n",
    "            signature_slice_db = librosa.amplitude_to_db(np.abs(signature_slice), ref=np.max, top_db=80.0)\n",
    "\n",
    "            plt.figure(figsize=(10, 6))\n",
    "            librosa.display.specshow(signature_slice_db, sr=sr, hop_length=hop_length_1, x_axis='linear', y_axis='linear')\n",
    "            plt.colorbar(format='%+2.0f dB')\n",
    "\n",
    "            plt.xlabel(f\"Modulation Frequency (Bin Index, DUAL_FFTSIZE={DUAL_FFTSIZE})\")\n",
    "            plt.ylabel(f\"Original Frequency (Bin Index, FFTSIZE={FFTSIZE})\")\n",
    "\n",
    "            plt.title(f'Double FFT Signature Power (Modulation Frame {d})\\n{base_filename}')\n",
    "            plot_filename = os.path.join(OUTPUT_PLOT_DIR, f\"{base_filename}_dualfft_power-{d}.png\")\n",
    "            plt.savefig(plot_filename)\n",
    "            plt.close()\n"
   ]
  },
  {
   "cell_type": "code",
   "execution_count": 9,
   "id": "3bf82265",
   "metadata": {},
   "outputs": [],
   "source": [
    "N_CLUSTERS = 2\n",
    "PCA_N_COMPONENTS = 2\n",
    "TEST_SPLIT_SIZE = 0.2"
   ]
  },
  {
   "cell_type": "code",
   "execution_count": 10,
   "id": "6164edf3",
   "metadata": {},
   "outputs": [
    {
     "data": {
      "text/plain": [
       "['C:\\\\Users\\\\duina\\\\repo\\\\DA\\\\engine_sound\\\\signatures\\\\0_signature.npy',\n",
       " 'C:\\\\Users\\\\duina\\\\repo\\\\DA\\\\engine_sound\\\\signatures\\\\10_signature.npy',\n",
       " 'C:\\\\Users\\\\duina\\\\repo\\\\DA\\\\engine_sound\\\\signatures\\\\11_signature.npy',\n",
       " 'C:\\\\Users\\\\duina\\\\repo\\\\DA\\\\engine_sound\\\\signatures\\\\12_signature.npy',\n",
       " 'C:\\\\Users\\\\duina\\\\repo\\\\DA\\\\engine_sound\\\\signatures\\\\13_signature.npy',\n",
       " 'C:\\\\Users\\\\duina\\\\repo\\\\DA\\\\engine_sound\\\\signatures\\\\14_signature.npy',\n",
       " 'C:\\\\Users\\\\duina\\\\repo\\\\DA\\\\engine_sound\\\\signatures\\\\15_signature.npy',\n",
       " 'C:\\\\Users\\\\duina\\\\repo\\\\DA\\\\engine_sound\\\\signatures\\\\16_signature.npy',\n",
       " 'C:\\\\Users\\\\duina\\\\repo\\\\DA\\\\engine_sound\\\\signatures\\\\17_signature.npy',\n",
       " 'C:\\\\Users\\\\duina\\\\repo\\\\DA\\\\engine_sound\\\\signatures\\\\18_signature.npy',\n",
       " 'C:\\\\Users\\\\duina\\\\repo\\\\DA\\\\engine_sound\\\\signatures\\\\19_signature.npy',\n",
       " 'C:\\\\Users\\\\duina\\\\repo\\\\DA\\\\engine_sound\\\\signatures\\\\1_signature.npy',\n",
       " 'C:\\\\Users\\\\duina\\\\repo\\\\DA\\\\engine_sound\\\\signatures\\\\20_signature.npy',\n",
       " 'C:\\\\Users\\\\duina\\\\repo\\\\DA\\\\engine_sound\\\\signatures\\\\21_signature.npy',\n",
       " 'C:\\\\Users\\\\duina\\\\repo\\\\DA\\\\engine_sound\\\\signatures\\\\22_signature.npy',\n",
       " 'C:\\\\Users\\\\duina\\\\repo\\\\DA\\\\engine_sound\\\\signatures\\\\23_signature.npy',\n",
       " 'C:\\\\Users\\\\duina\\\\repo\\\\DA\\\\engine_sound\\\\signatures\\\\24_signature.npy',\n",
       " 'C:\\\\Users\\\\duina\\\\repo\\\\DA\\\\engine_sound\\\\signatures\\\\25_signature.npy',\n",
       " 'C:\\\\Users\\\\duina\\\\repo\\\\DA\\\\engine_sound\\\\signatures\\\\26_signature.npy',\n",
       " 'C:\\\\Users\\\\duina\\\\repo\\\\DA\\\\engine_sound\\\\signatures\\\\27_signature.npy',\n",
       " 'C:\\\\Users\\\\duina\\\\repo\\\\DA\\\\engine_sound\\\\signatures\\\\28_signature.npy',\n",
       " 'C:\\\\Users\\\\duina\\\\repo\\\\DA\\\\engine_sound\\\\signatures\\\\29_signature.npy',\n",
       " 'C:\\\\Users\\\\duina\\\\repo\\\\DA\\\\engine_sound\\\\signatures\\\\2_signature.npy',\n",
       " 'C:\\\\Users\\\\duina\\\\repo\\\\DA\\\\engine_sound\\\\signatures\\\\30_signature.npy',\n",
       " 'C:\\\\Users\\\\duina\\\\repo\\\\DA\\\\engine_sound\\\\signatures\\\\31_signature.npy',\n",
       " 'C:\\\\Users\\\\duina\\\\repo\\\\DA\\\\engine_sound\\\\signatures\\\\32_signature.npy',\n",
       " 'C:\\\\Users\\\\duina\\\\repo\\\\DA\\\\engine_sound\\\\signatures\\\\33_signature.npy',\n",
       " 'C:\\\\Users\\\\duina\\\\repo\\\\DA\\\\engine_sound\\\\signatures\\\\34_signature.npy',\n",
       " 'C:\\\\Users\\\\duina\\\\repo\\\\DA\\\\engine_sound\\\\signatures\\\\36_signature.npy',\n",
       " 'C:\\\\Users\\\\duina\\\\repo\\\\DA\\\\engine_sound\\\\signatures\\\\37_signature.npy',\n",
       " 'C:\\\\Users\\\\duina\\\\repo\\\\DA\\\\engine_sound\\\\signatures\\\\38_signature.npy',\n",
       " 'C:\\\\Users\\\\duina\\\\repo\\\\DA\\\\engine_sound\\\\signatures\\\\39_signature.npy',\n",
       " 'C:\\\\Users\\\\duina\\\\repo\\\\DA\\\\engine_sound\\\\signatures\\\\3_signature.npy',\n",
       " 'C:\\\\Users\\\\duina\\\\repo\\\\DA\\\\engine_sound\\\\signatures\\\\40_signature.npy',\n",
       " 'C:\\\\Users\\\\duina\\\\repo\\\\DA\\\\engine_sound\\\\signatures\\\\41_signature.npy',\n",
       " 'C:\\\\Users\\\\duina\\\\repo\\\\DA\\\\engine_sound\\\\signatures\\\\42_signature.npy',\n",
       " 'C:\\\\Users\\\\duina\\\\repo\\\\DA\\\\engine_sound\\\\signatures\\\\43_signature.npy',\n",
       " 'C:\\\\Users\\\\duina\\\\repo\\\\DA\\\\engine_sound\\\\signatures\\\\44_signature.npy',\n",
       " 'C:\\\\Users\\\\duina\\\\repo\\\\DA\\\\engine_sound\\\\signatures\\\\49_signature.npy',\n",
       " 'C:\\\\Users\\\\duina\\\\repo\\\\DA\\\\engine_sound\\\\signatures\\\\4_signature.npy',\n",
       " 'C:\\\\Users\\\\duina\\\\repo\\\\DA\\\\engine_sound\\\\signatures\\\\50_signature.npy',\n",
       " 'C:\\\\Users\\\\duina\\\\repo\\\\DA\\\\engine_sound\\\\signatures\\\\51_signature.npy',\n",
       " 'C:\\\\Users\\\\duina\\\\repo\\\\DA\\\\engine_sound\\\\signatures\\\\52_signature.npy',\n",
       " 'C:\\\\Users\\\\duina\\\\repo\\\\DA\\\\engine_sound\\\\signatures\\\\53_signature.npy',\n",
       " 'C:\\\\Users\\\\duina\\\\repo\\\\DA\\\\engine_sound\\\\signatures\\\\54_signature.npy',\n",
       " 'C:\\\\Users\\\\duina\\\\repo\\\\DA\\\\engine_sound\\\\signatures\\\\55_signature.npy',\n",
       " 'C:\\\\Users\\\\duina\\\\repo\\\\DA\\\\engine_sound\\\\signatures\\\\56_signature.npy',\n",
       " 'C:\\\\Users\\\\duina\\\\repo\\\\DA\\\\engine_sound\\\\signatures\\\\57_signature.npy',\n",
       " 'C:\\\\Users\\\\duina\\\\repo\\\\DA\\\\engine_sound\\\\signatures\\\\58_signature.npy',\n",
       " 'C:\\\\Users\\\\duina\\\\repo\\\\DA\\\\engine_sound\\\\signatures\\\\59_signature.npy',\n",
       " 'C:\\\\Users\\\\duina\\\\repo\\\\DA\\\\engine_sound\\\\signatures\\\\5_signature.npy',\n",
       " 'C:\\\\Users\\\\duina\\\\repo\\\\DA\\\\engine_sound\\\\signatures\\\\60_signature.npy',\n",
       " 'C:\\\\Users\\\\duina\\\\repo\\\\DA\\\\engine_sound\\\\signatures\\\\61_signature.npy',\n",
       " 'C:\\\\Users\\\\duina\\\\repo\\\\DA\\\\engine_sound\\\\signatures\\\\62_signature.npy',\n",
       " 'C:\\\\Users\\\\duina\\\\repo\\\\DA\\\\engine_sound\\\\signatures\\\\63_signature.npy',\n",
       " 'C:\\\\Users\\\\duina\\\\repo\\\\DA\\\\engine_sound\\\\signatures\\\\64_signature.npy',\n",
       " 'C:\\\\Users\\\\duina\\\\repo\\\\DA\\\\engine_sound\\\\signatures\\\\6_signature.npy',\n",
       " 'C:\\\\Users\\\\duina\\\\repo\\\\DA\\\\engine_sound\\\\signatures\\\\7_signature.npy',\n",
       " 'C:\\\\Users\\\\duina\\\\repo\\\\DA\\\\engine_sound\\\\signatures\\\\8_signature.npy',\n",
       " 'C:\\\\Users\\\\duina\\\\repo\\\\DA\\\\engine_sound\\\\signatures\\\\9_signature.npy']"
      ]
     },
     "execution_count": 10,
     "metadata": {},
     "output_type": "execute_result"
    }
   ],
   "source": [
    "signature_files = sorted(glob.glob(os.path.join(OUTPUT_SIGNATURE_DIR, '*.npy')))\n",
    "signature_files"
   ]
  }
 ],
 "metadata": {
  "kernelspec": {
   "display_name": "Python 3",
   "language": "python",
   "name": "python3"
  },
  "language_info": {
   "codemirror_mode": {
    "name": "ipython",
    "version": 3
   },
   "file_extension": ".py",
   "mimetype": "text/x-python",
   "name": "python",
   "nbconvert_exporter": "python",
   "pygments_lexer": "ipython3",
   "version": "3.12.4"
  }
 },
 "nbformat": 4,
 "nbformat_minor": 5
}
