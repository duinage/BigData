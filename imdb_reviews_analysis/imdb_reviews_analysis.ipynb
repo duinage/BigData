{
 "cells": [
  {
   "cell_type": "markdown",
   "id": "c4ad8889",
   "metadata": {},
   "source": [
    "# IMDB reviews exploration.\n",
    "## Author: Vadym Tunik.\n",
    "\n",
    "Dataset: Large Movie Review Dataset https://ai.stanford.edu/~amaas/data/sentiment/"
   ]
  },
  {
   "cell_type": "code",
   "execution_count": 1,
   "id": "55188978",
   "metadata": {},
   "outputs": [],
   "source": [
    "from contextual_search_system_for_related_texts import *"
   ]
  },
  {
   "cell_type": "markdown",
   "id": "57e9e7a9",
   "metadata": {},
   "source": [
    "### System that offers five IMDB reviews that are similar to the given one.\n",
    "### (we intuitively believe that the user who wrote the review will be interested in finding a movie that evokes similar impressions)"
   ]
  },
  {
   "cell_type": "code",
   "execution_count": 3,
   "id": "e4d7e74e",
   "metadata": {},
   "outputs": [
    {
     "name": "stdout",
     "output_type": "stream",
     "text": [
      "\n",
      "Loading data from: C:\\Users\\duina\\repo\\DA\\imdb_reviews_analysis\\aclImdb\\train\\unsup\n",
      "Attempting to load 2500 files (5.0% of total 50000 text files)...\n",
      "Successfully loaded 2500 out of 2500 attempted texts.\n",
      "\n",
      "Starting BoW process (use_bigrams=False)...\n",
      "Step 1: Cleaning and tokenizing texts...\n",
      "____ Processed 1000 texts...\n",
      "____ Processed 2000 texts...\n",
      "____ Initial token count (unique): 29740\n",
      "Step 2: Building final vocabulary...\n",
      "____ Postprocessing: Min Freq=5, Stopwords=Yes, Stemming=Yes\n",
      "____ Words after frequency filter: 7962\n",
      "____ Words after stopword filter: 7832\n",
      "____ Unique stemmed words: 5337\n",
      "____ Final vocabulary size: 5337\n",
      "Step 3: Creating BoW matrix...\n",
      "____ Vectorized 1000 texts...\n",
      "____ Vectorized 2000 texts...\n",
      "____ BoW matrix created. Shape: (2500, 5337)\n",
      "\n",
      "BoW process finished.\n",
      "____ Final Matrix Shape: (2500, 5337)\n",
      "____ Total time: 5.12 seconds\n",
      "\n",
      "Calculating similarity using 'cosine' distance...\n",
      "\n",
      "--- Similarity Results ---\n",
      "\n",
      "Chosen Text #2025 (Cleaned Snippet):\n",
      "how do we beginthe president is shot secret service agents chase down a shooter unconnected characters intersect in increasingly meaningless ways oh and did i mention the groundhog dayesqe time rewind audible audience laughter is not what you expect to hear in a thriller when a film with such a reasonable premise is butchered and ultimately ends up dying an ignoble death my first question was wher...\n",
      "\n",
      "Top 5 Most Similar Texts:\n",
      "\n",
      "Rank 1: Text #2031 with Distance: 0.57\n",
      "what can i say this film is a gimmick film that relates the same event through the eyes of eight different characters that each hold a piece of the puzzle the film stops and rewinds back to minutes before the event for each character it gets a little annoying because each time it stops the audience is left on a cliffhanger which carries the films tension into the next character as for what the fil...\n",
      "\n",
      "Rank 2: Text #2005 with Distance: 0.58\n",
      "vantage point is one of those movies that youre either going to love or hate if youre a fan of movies like crash the bourne series or any other film with interlocking stories odds are that you will enjoy vantage point if you have a hard time stretching your mind have a short attention span or are totally not a fan of dennis quaid or forest whitaker then you probably wont enjoy the film plain and s...\n",
      "\n",
      "Rank 3: Text #2026 with Distance: 0.60\n",
      "the start of vantage point was so good that it actually got my hopes up as i thought i was going to be in for a good action thriller its too bad that after the assassination of the president william hurt shown through the scope of a cnn type cable news broadcast gnn instead of a c it has a g get it cnn gnn the story is pretty much over so they add some action scenes and car chases because theyre a...\n",
      "\n",
      "Rank 4: Text #217 with Distance: 0.62\n",
      "horror films are few and far between these days in fact its almost a dead genre in the west gore and torture pornography centred films like saw and hostel seem to have stole the foundations of horror and instead of focusing on truly scaring people through suspense meticulous direction and script these films focus solely on shocking people now im all for shocking people in horror films it kind of c...\n",
      "\n",
      "Rank 5: Text #2016 with Distance: 0.63\n",
      "vantage point starts off with the incident that you see in all the trailers an incident is all the story real amounts to we watch the first pov from that of the news crew  however it is real not a point of view of any specific person we just follow the action of certain people  when the story reaches a certain point we quickly rewind to the next pov kinda from the same time which timecode on the s...\n"
     ]
    }
   ],
   "source": [
    "texts = load_texts_from_folder(FOLDER_PATH, fraction=DATA_FRACTION)\n",
    "bow_model = BagOfWords(use_bigrams=USE_BIGRAMS)\n",
    "bow_matrix = bow_model.fit_transform(texts, vocab_min_frequency=VOCAB_MIN_FREQUENCY)\n",
    "\n",
    "similar_indices, similar_distances = find_similar_texts(\n",
    "    bow_matrix,\n",
    "    chosen_index=CHOSEN_TEXT_INDEX,\n",
    "    num_similar=NUM_RELATED_TO_FIND,\n",
    "    metric='cosine' #'cosine'\n",
    ")\n",
    "\n",
    "print(f\"\\n--- Similarity Results ---\")\n",
    "chosen_text_original = texts[CHOSEN_TEXT_INDEX]\n",
    "cleaned_chosen_text = clean_text(chosen_text_original)\n",
    "print(f\"\\nChosen Text #{CHOSEN_TEXT_INDEX} (Cleaned Snippet):\")\n",
    "print(cleaned_chosen_text[:CHAR_LIMIT_FOR_TEXT] + ('...' if len(cleaned_chosen_text) > CHAR_LIMIT_FOR_TEXT else ''))\n",
    "\n",
    "print(f\"\\nTop {NUM_RELATED_TO_FIND} Most Similar Texts:\")\n",
    "for i in range(len(similar_indices)):\n",
    "    index = similar_indices[i]\n",
    "    distance = similar_distances[i]\n",
    "    related_text_original = texts[index]\n",
    "    cleaned_related_text = clean_text(related_text_original)\n",
    "\n",
    "    print(f\"\\nRank {i+1}: Text #{index} with Distance: {distance:.2f}\")\n",
    "    print(cleaned_related_text[:CHAR_LIMIT_FOR_TEXT] + ('...' if len(cleaned_related_text) > CHAR_LIMIT_FOR_TEXT else ''))"
   ]
  }
 ],
 "metadata": {
  "kernelspec": {
   "display_name": "Python 3",
   "language": "python",
   "name": "python3"
  },
  "language_info": {
   "codemirror_mode": {
    "name": "ipython",
    "version": 3
   },
   "file_extension": ".py",
   "mimetype": "text/x-python",
   "name": "python",
   "nbconvert_exporter": "python",
   "pygments_lexer": "ipython3",
   "version": "3.12.4"
  }
 },
 "nbformat": 4,
 "nbformat_minor": 5
}
